{
 "cells": [
  {
   "cell_type": "code",
   "execution_count": 1,
   "id": "5d6a47b7",
   "metadata": {},
   "outputs": [],
   "source": [
    "# Import libraries\n",
    "\n",
    "import numpy as np\n",
    "import pandas as pd\n",
    "import matplotlib.pyplot as plt\n",
    "import seaborn as sns\n",
    "\n",
    "from sklearn.model_selection import train_test_split\n",
    "from sklearn.preprocessing import StandardScaler \n",
    "\n",
    "\n",
    "from sklearn.svm import SVC\n",
    "\n",
    "from sklearn.model_selection import cross_val_score,KFold\n",
    "from sklearn.model_selection import GridSearchCV\n",
    "from sklearn.model_selection import RandomizedSearchCV\n",
    "from hyperopt import tpe, hp, fmin, STATUS_OK,Trials\n",
    "\n",
    "from sklearn.metrics import accuracy_score,confusion_matrix,classification_report\n",
    "\n",
    "import warnings\n",
    "\n",
    "import warnings\n",
    "warnings.filterwarnings(\"ignore\")"
   ]
  },
  {
   "cell_type": "code",
   "execution_count": 2,
   "id": "1b227c8c",
   "metadata": {},
   "outputs": [
    {
     "data": {
      "text/html": [
       "<div>\n",
       "<style scoped>\n",
       "    .dataframe tbody tr th:only-of-type {\n",
       "        vertical-align: middle;\n",
       "    }\n",
       "\n",
       "    .dataframe tbody tr th {\n",
       "        vertical-align: top;\n",
       "    }\n",
       "\n",
       "    .dataframe thead th {\n",
       "        text-align: right;\n",
       "    }\n",
       "</style>\n",
       "<table border=\"1\" class=\"dataframe\">\n",
       "  <thead>\n",
       "    <tr style=\"text-align: right;\">\n",
       "      <th></th>\n",
       "      <th>PassengerId</th>\n",
       "      <th>Survived</th>\n",
       "      <th>Pclass</th>\n",
       "      <th>Name</th>\n",
       "      <th>Sex</th>\n",
       "      <th>Age</th>\n",
       "      <th>SibSp</th>\n",
       "      <th>Parch</th>\n",
       "      <th>Ticket</th>\n",
       "      <th>Fare</th>\n",
       "      <th>Cabin</th>\n",
       "      <th>Embarked</th>\n",
       "    </tr>\n",
       "  </thead>\n",
       "  <tbody>\n",
       "    <tr>\n",
       "      <th>0</th>\n",
       "      <td>1</td>\n",
       "      <td>0</td>\n",
       "      <td>3</td>\n",
       "      <td>Braund, Mr. Owen Harris</td>\n",
       "      <td>male</td>\n",
       "      <td>22.0</td>\n",
       "      <td>1</td>\n",
       "      <td>0</td>\n",
       "      <td>A/5 21171</td>\n",
       "      <td>7.2500</td>\n",
       "      <td>NaN</td>\n",
       "      <td>S</td>\n",
       "    </tr>\n",
       "    <tr>\n",
       "      <th>1</th>\n",
       "      <td>2</td>\n",
       "      <td>1</td>\n",
       "      <td>1</td>\n",
       "      <td>Cumings, Mrs. John Bradley (Florence Briggs Th...</td>\n",
       "      <td>female</td>\n",
       "      <td>38.0</td>\n",
       "      <td>1</td>\n",
       "      <td>0</td>\n",
       "      <td>PC 17599</td>\n",
       "      <td>71.2833</td>\n",
       "      <td>C85</td>\n",
       "      <td>C</td>\n",
       "    </tr>\n",
       "    <tr>\n",
       "      <th>2</th>\n",
       "      <td>3</td>\n",
       "      <td>1</td>\n",
       "      <td>3</td>\n",
       "      <td>Heikkinen, Miss. Laina</td>\n",
       "      <td>female</td>\n",
       "      <td>26.0</td>\n",
       "      <td>0</td>\n",
       "      <td>0</td>\n",
       "      <td>STON/O2. 3101282</td>\n",
       "      <td>7.9250</td>\n",
       "      <td>NaN</td>\n",
       "      <td>S</td>\n",
       "    </tr>\n",
       "    <tr>\n",
       "      <th>3</th>\n",
       "      <td>4</td>\n",
       "      <td>1</td>\n",
       "      <td>1</td>\n",
       "      <td>Futrelle, Mrs. Jacques Heath (Lily May Peel)</td>\n",
       "      <td>female</td>\n",
       "      <td>35.0</td>\n",
       "      <td>1</td>\n",
       "      <td>0</td>\n",
       "      <td>113803</td>\n",
       "      <td>53.1000</td>\n",
       "      <td>C123</td>\n",
       "      <td>S</td>\n",
       "    </tr>\n",
       "    <tr>\n",
       "      <th>4</th>\n",
       "      <td>5</td>\n",
       "      <td>0</td>\n",
       "      <td>3</td>\n",
       "      <td>Allen, Mr. William Henry</td>\n",
       "      <td>male</td>\n",
       "      <td>35.0</td>\n",
       "      <td>0</td>\n",
       "      <td>0</td>\n",
       "      <td>373450</td>\n",
       "      <td>8.0500</td>\n",
       "      <td>NaN</td>\n",
       "      <td>S</td>\n",
       "    </tr>\n",
       "  </tbody>\n",
       "</table>\n",
       "</div>"
      ],
      "text/plain": [
       "   PassengerId  Survived  Pclass  \\\n",
       "0            1         0       3   \n",
       "1            2         1       1   \n",
       "2            3         1       3   \n",
       "3            4         1       1   \n",
       "4            5         0       3   \n",
       "\n",
       "                                                Name     Sex   Age  SibSp  \\\n",
       "0                            Braund, Mr. Owen Harris    male  22.0      1   \n",
       "1  Cumings, Mrs. John Bradley (Florence Briggs Th...  female  38.0      1   \n",
       "2                             Heikkinen, Miss. Laina  female  26.0      0   \n",
       "3       Futrelle, Mrs. Jacques Heath (Lily May Peel)  female  35.0      1   \n",
       "4                           Allen, Mr. William Henry    male  35.0      0   \n",
       "\n",
       "   Parch            Ticket     Fare Cabin Embarked  \n",
       "0      0         A/5 21171   7.2500   NaN        S  \n",
       "1      0          PC 17599  71.2833   C85        C  \n",
       "2      0  STON/O2. 3101282   7.9250   NaN        S  \n",
       "3      0            113803  53.1000  C123        S  \n",
       "4      0            373450   8.0500   NaN        S  "
      ]
     },
     "execution_count": 2,
     "metadata": {},
     "output_type": "execute_result"
    }
   ],
   "source": [
    "# load and read data\n",
    "address=r\"F:\\Tutorials\\Certified program in MACHINE LEARNING and ARTIFICIAL INTELLIGENCE\\Assignments\\assignment_5\\titanic.csv\"\n",
    "data=pd.read_csv(address)\n",
    "data.head()"
   ]
  },
  {
   "cell_type": "code",
   "execution_count": 3,
   "id": "a3e4a4f8",
   "metadata": {},
   "outputs": [],
   "source": [
    "# split feature matrix and target label\n",
    "\n",
    "X = data[['Pclass','SibSp','Parch','Fare']]\n",
    "y = data.Survived"
   ]
  },
  {
   "cell_type": "code",
   "execution_count": 4,
   "id": "24df0ca1",
   "metadata": {},
   "outputs": [
    {
     "name": "stdout",
     "output_type": "stream",
     "text": [
      "The training dataset has 668 records.\n",
      "The testing dataset has 223 records.\n"
     ]
    }
   ],
   "source": [
    "# scale data\n",
    "\n",
    "def scale_std(X_train,X_test):\n",
    "    sc = StandardScaler()\n",
    "    sc.fit(X_train)\n",
    "    X_train_std = sc.transform(X_train)\n",
    "    X_test_std = sc.transform(X_test)\n",
    "    return X_train_std,X_test_std\n",
    "\n",
    "# split dataset\n",
    "\n",
    "X_train, X_test, y_train, y_test = train_test_split(X,y, test_size=0.25, random_state=42)\n",
    "\n",
    "print(f'The training dataset has {len(X_train)} records.')\n",
    "print(f'The testing dataset has {len(X_test)} records.')"
   ]
  },
  {
   "cell_type": "code",
   "execution_count": 5,
   "id": "30ffa32b",
   "metadata": {},
   "outputs": [],
   "source": [
    "X_train_std,X_test_std=scale_std(X_train,X_test)"
   ]
  },
  {
   "cell_type": "code",
   "execution_count": 6,
   "id": "76730834",
   "metadata": {},
   "outputs": [],
   "source": [
    "# function to plot confusion_matrix, accuracy\n",
    "\n",
    "def plot_conf(ypred,y_test):\n",
    "    cf_matrix = confusion_matrix( ypred,y_test)\n",
    "    ax= plt.subplot()\n",
    "    sns.heatmap(cf_matrix,annot=True,ax=ax, cmap=\"BuPu\")\n",
    "    ax.set_xlabel('Predicted labels')\n",
    "    ax.set_ylabel('True labels')\n",
    "    ax.set_title('Confusion Matrix')\n",
    "    \n",
    "def acc_model(model,X_train,y_train,X_test,y_test,kf):\n",
    "    model.fit(X_train, y_train)\n",
    "    ypred=model.predict(X_test)\n",
    "    err=accuracy_score(y_test, ypred)\n",
    "    score=cross_val_score(model,X,y,cv=kf).mean()\n",
    "   \n",
    "    print('{}% of the test samples are corrrectly classified \\n\\n'.format(err*100))\n",
    "    print('{}% of the test samples are corrrectly classified with 5-Fold cross-validation \\n\\n'.format(score*100))\n",
    "    plt.figure(dpi=100)\n",
    "    plot_conf(ypred,y_test)\n",
    "    \n",
    "    return err,score    "
   ]
  },
  {
   "cell_type": "code",
   "execution_count": 7,
   "id": "9835863f",
   "metadata": {},
   "outputs": [
    {
     "name": "stdout",
     "output_type": "stream",
     "text": [
      "69.05829596412556% of the test samples are corrrectly classified \n",
      "\n",
      "\n",
      "68.13319942250958% of the test samples are corrrectly classified with 5-Fold cross-validation \n",
      "\n",
      "\n"
     ]
    },
    {
     "data": {
      "image/png": "[encoded data removed]",
      "text/plain": [
       "<Figure size 600x400 with 2 Axes>"
      ]
     },
     "metadata": {
      "needs_background": "light"
     },
     "output_type": "display_data"
    }
   ],
   "source": [
    "# A simple SVM \n",
    "\n",
    "model = SVC(kernel='linear') \n",
    "kf=KFold(n_splits=5)  # cross validation with Kfold\n",
    "err2,score2=acc_model(model,X_train,y_train,X_test,y_test,kf)  "
   ]
  },
  {
   "cell_type": "code",
   "execution_count": 8,
   "id": "5ed00b7a",
   "metadata": {},
   "outputs": [
    {
     "name": "stdout",
     "output_type": "stream",
     "text": [
      "Best Params:  {'C': 100, 'gamma': 0.001, 'kernel': 'rbf'}\n",
      "Best Score:  0.6916058803725733\n"
     ]
    }
   ],
   "source": [
    "\n",
    "parameters ={'C': [0.1, 1, 10, 100, 1000],\n",
    "             'gamma': [1, 0.1, 0.01, 0.001, 0.0001],\n",
    "             'kernel': ['rbf']}\n",
    "\n",
    "### SVM with parameter optimization using grid search\n",
    "\n",
    "grid_search = GridSearchCV( SVC(), \n",
    "                            parameters, \n",
    "                            cv=5,\n",
    "                            scoring='accuracy',n_jobs=-1)\n",
    "grid_result= grid_search.fit(X_train,y_train)\n",
    "print('Best Params: ', grid_result.best_params_)\n",
    "print('Best Score: ', grid_result.best_score_)"
   ]
  },
  {
   "cell_type": "code",
   "execution_count": 16,
   "id": "fdff3efb",
   "metadata": {},
   "outputs": [
    {
     "name": "stdout",
     "output_type": "stream",
     "text": [
      "69.05829596412556% of the test samples are corrrectly classified \n",
      "\n",
      "\n",
      "68.02021216496139% of the test samples are corrrectly classified with 5-Fold cross-validation \n",
      "\n",
      "\n"
     ]
    },
    {
     "data": {
      "image/png": "[encoded data removed]",
      "text/plain": [
       "<Figure size 600x400 with 2 Axes>"
      ]
     },
     "metadata": {
      "needs_background": "light"
     },
     "output_type": "display_data"
    }
   ],
   "source": [
    "\n",
    "svmGridsearch=SVC(C=100, gamma= 0.001,kernel='rbf')\n",
    "err3,score3=acc_model(svmGridsearch,X_train,y_train,X_test,y_test,kf)  "
   ]
  },
  {
   "cell_type": "code",
   "execution_count": 10,
   "id": "22130068",
   "metadata": {},
   "outputs": [
    {
     "name": "stdout",
     "output_type": "stream",
     "text": [
      "Fitting 5 folds for each of 25 candidates, totalling 125 fits\n",
      "Best Score:  69.16058803725733\n",
      "Best Params:  {'kernel': 'rbf', 'gamma': 0.001, 'C': 100}\n"
     ]
    }
   ],
   "source": [
    "### SVM with parameter optimization using random search\n",
    "\n",
    "random_search=RandomizedSearchCV(estimator = SVC(), \n",
    "                                 param_distributions=parameters,\n",
    "                                 verbose=3, \n",
    "                                 n_jobs=-1,\n",
    "                                 n_iter=50)\n",
    "random_result = random_search.fit(X_train, y_train)\n",
    "print('Best Score: ', random_result.best_score_*100)\n",
    "print('Best Params: ', random_result.best_params_)"
   ]
  },
  {
   "cell_type": "code",
   "execution_count": 11,
   "id": "bf0cb5b8",
   "metadata": {},
   "outputs": [
    {
     "name": "stdout",
     "output_type": "stream",
     "text": [
      "69.05829596412556% of the test samples are corrrectly classified \n",
      "\n",
      "\n",
      "68.02021216496139% of the test samples are corrrectly classified with 5-Fold cross-validation \n",
      "\n",
      "\n"
     ]
    },
    {
     "data": {
      "image/png": "[encoded data removed]",
      "text/plain": [
       "<Figure size 600x400 with 2 Axes>"
      ]
     },
     "metadata": {
      "needs_background": "light"
     },
     "output_type": "display_data"
    }
   ],
   "source": [
    "svmRandom=SVC(C=100, gamma= 0.001,kernel='rbf')\n",
    "svmRandom.fit(X_train,y_train)\n",
    "err4,score4=acc_model(svmRandom,X_train,y_train,X_test,y_test,kf) "
   ]
  },
  {
   "cell_type": "code",
   "execution_count": 12,
   "id": "0bdb7c33",
   "metadata": {},
   "outputs": [],
   "source": [
    "### SVM with parameter optimization using hyperopt\n",
    "\n",
    "space = {\"C\": hp.choice(\"C\", [0.1, 1, 10, 100, 1000]),\n",
    "         \"gamma\": hp.choice(\"gamma\", [1, 0.1, 0.01, 0.001, 0.0001]),\n",
    "         \"kernel\": hp.choice(\"kernel\", ['rbf']),}\n",
    "\n",
    "# define objective function\n",
    "\n",
    "def hyperparameter_tuning(params):\n",
    "    model = SVC(**params)\n",
    "    acc = cross_val_score(model, X_train, y_train,scoring=\"accuracy\").mean()\n",
    "    return {\"loss\": -acc, \"status\": STATUS_OK}\n"
   ]
  },
  {
   "cell_type": "code",
   "execution_count": 13,
   "id": "5aa0dcbd",
   "metadata": {},
   "outputs": [
    {
     "name": "stdout",
     "output_type": "stream",
     "text": [
      "100%|██████████| 50/50 [00:40<00:00,  1.24trial/s, best loss: -0.6916058803725733]\n",
      "Best: {'C': 3, 'gamma': 3, 'kernel': 0}\n"
     ]
    }
   ],
   "source": [
    "# Initialize trials object\n",
    "trials = Trials()\n",
    "\n",
    "best = fmin(fn=hyperparameter_tuning,\n",
    "            space = space, \n",
    "            algo=tpe.suggest, \n",
    "            max_evals=50, \n",
    "            trials=trials)\n",
    "\n",
    "print(\"Best: {}\".format(best))"
   ]
  },
  {
   "cell_type": "code",
   "execution_count": 14,
   "id": "60c4d3ed",
   "metadata": {},
   "outputs": [
    {
     "name": "stdout",
     "output_type": "stream",
     "text": [
      "69.05829596412556% of the test samples are corrrectly classified \n",
      "\n",
      "\n",
      "68.02021216496139% of the test samples are corrrectly classified with 5-Fold cross-validation \n",
      "\n",
      "\n"
     ]
    },
    {
     "data": {
      "image/png": "[encoded data removed]",
      "text/plain": [
       "<Figure size 600x400 with 2 Axes>"
      ]
     },
     "metadata": {
      "needs_background": "light"
     },
     "output_type": "display_data"
    }
   ],
   "source": [
    "svmHyperopt = SVC(C=100,gamma=0.001,kernel='rbf')\n",
    "svmHyperopt.fit(X_train,y_train)\n",
    "err5,score5=acc_model(svmHyperopt,X_train,y_train,X_test,y_test,kf) "
   ]
  },
  {
   "cell_type": "code",
   "execution_count": 17,
   "id": "e5ad8bce",
   "metadata": {},
   "outputs": [
    {
     "name": "stdout",
     "output_type": "stream",
     "text": [
      "........................................\n",
      "SVC(kernel='linear') : 0.6813319942250958\n",
      "........................................\n",
      "Optimization by grid search\n",
      " SVC(C=100, gamma=0.001) : 0.6802021216496139\n",
      "........................................\n",
      "Optimization by random search\n",
      " SVC(C=100, gamma=0.001) : 0.6802021216496139\n",
      "........................................\n",
      "Optimization by hyperopt\n",
      " SVC(C=100, gamma=0.001) : 0.6802021216496139\n"
     ]
    }
   ],
   "source": [
    "## Results\n",
    "\n",
    "print('..'*20)\n",
    "print(model,':',score2)\n",
    "print('..'*20)\n",
    "print('Optimization by grid search\\n',svmGridsearch,':',score3)\n",
    "print('..'*20)\n",
    "print('Optimization by random search\\n',svmRandom,':',score4)\n",
    "print('..'*20)\n",
    "print('Optimization by hyperopt\\n',svmHyperopt,':',score5)\n",
    "\n"
   ]
  },
  {
   "cell_type": "code",
   "execution_count": null,
   "id": "70cd8d60",
   "metadata": {},
   "outputs": [],
   "source": []
  }
 ],
 "metadata": {
  "kernelspec": {
   "display_name": "Python 3",
   "language": "python",
   "name": "python3"
  },
  "language_info": {
   "codemirror_mode": {
    "name": "ipython",
    "version": 3
   },
   "file_extension": ".py",
   "mimetype": "text/x-python",
   "name": "python",
   "nbconvert_exporter": "python",
   "pygments_lexer": "ipython3",
   "version": "3.8.8"
  }
 },
 "nbformat": 4,
 "nbformat_minor": 5
}
